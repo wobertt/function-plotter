{
 "cells": [
  {
   "cell_type": "code",
   "execution_count": null,
   "metadata": {},
   "outputs": [],
   "source": [
    "import matplotlib.pyplot as plt\n",
    "import numpy as np\n",
    "import math"
   ]
  },
  {
   "cell_type": "code",
   "execution_count": null,
   "metadata": {},
   "outputs": [],
   "source": [
    "def plot_3d_function(fn, center, radius, gridlines):\n",
    "    vectorized_fn = np.vectorize(fn)\n",
    "    x_center, y_center = center\n",
    "\n",
    "    fig = plt.figure()\n",
    "    ax = plt.axes(projection='3d')\n",
    "\n",
    "    x_tmp = np.linspace(x_center-radius, x_center+radius, gridlines)\n",
    "    y_tmp = np.linspace(y_center-radius, y_center+radius, gridlines)\n",
    "\n",
    "    x_arr, y_arr = np.meshgrid(x_tmp, y_tmp)\n",
    "    print(f\"{x_arr=}\\n{y_arr=}\")\n",
    "\n",
    "    # ax.plot_wireframe(x_arr, y_arr, vectorized_fn(x_arr, y_arr))\n",
    "    ax.plot_surface(x_arr, y_arr, vectorized_fn(x_arr, y_arr))\n",
    "    plt.show()"
   ]
  },
  {
   "cell_type": "code",
   "execution_count": null,
   "metadata": {},
   "outputs": [],
   "source": [
    "def f(x, y):\n",
    "    return 9 - 2*x + 4*y + x**2 - 4*y**2"
   ]
  },
  {
   "cell_type": "code",
   "execution_count": null,
   "metadata": {},
   "outputs": [],
   "source": [
    "plot_3d_function(\n",
    "    fn=f,\n",
    "    center=(0, 0),\n",
    "    radius=2,\n",
    "    gridlines=30\n",
    ")"
   ]
  }
 ],
 "metadata": {
  "kernelspec": {
   "display_name": "Python 3",
   "language": "python",
   "name": "python3"
  },
  "language_info": {
   "codemirror_mode": {
    "name": "ipython",
    "version": 3
   },
   "file_extension": ".py",
   "mimetype": "text/x-python",
   "name": "python",
   "nbconvert_exporter": "python",
   "pygments_lexer": "ipython3",
   "version": "3.10.7"
  },
  "orig_nbformat": 4
 },
 "nbformat": 4,
 "nbformat_minor": 2
}
